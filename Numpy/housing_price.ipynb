{
 "cells": [
  {
   "cell_type": "code",
   "execution_count": 1,
   "id": "9fdb4ee5",
   "metadata": {},
   "outputs": [],
   "source": [
    "import numpy as np\n",
    "np.set_printoptions(suppress=True, linewidth=100, precision=5)"
   ]
  },
  {
   "cell_type": "markdown",
   "id": "9ac6323a",
   "metadata": {},
   "source": [
    "### we can use loadtxt or genfromtxt which takes missing data also into account for importing data. \n",
    "genfromtxt runs two main loops. The first loop converts each line of the file in a sequence of strings. The second loop converts each string to the appropriate data type. This mechanism is slower than a single loop, but gives more flexibility.\n",
    "\n",
    "arguments - \n",
    "\n",
    "The delimiter keyword is used to define how the splitting should take place. Since we're using csv we use ','\n",
    "\n",
    "Encoding used to decode the inputfile.  ('unicode-escape')\n",
    "\n",
    "The presence of a header in the file can hinder data processing.To avoid that we do skip_header=1.\n",
    "\n"
   ]
  },
  {
   "cell_type": "code",
   "execution_count": 2,
   "id": "0537a564",
   "metadata": {},
   "outputs": [],
   "source": [
    "data1 = np.genfromtxt('train.csv', delimiter=',', encoding='unicode_escape', skip_header=0)\n"
   ]
  },
  {
   "cell_type": "code",
   "execution_count": 3,
   "id": "5af3b23d",
   "metadata": {},
   "outputs": [
    {
     "name": "stderr",
     "output_type": "stream",
     "text": [
      "<ipython-input-3-651f08b10ec9>:1: RuntimeWarning: Mean of empty slice\n",
      "  tmp_mean = np.nanmean(data1, axis=0)\n"
     ]
    }
   ],
   "source": [
    "tmp_mean = np.nanmean(data1, axis=0)"
   ]
  },
  {
   "cell_type": "code",
   "execution_count": 4,
   "id": "5ed530e3",
   "metadata": {},
   "outputs": [],
   "source": [
    "column_strings = np.argwhere(np.isnan(tmp_mean))"
   ]
  },
  {
   "cell_type": "code",
   "execution_count": 5,
   "id": "272c2548",
   "metadata": {},
   "outputs": [
    {
     "data": {
      "text/plain": [
       "array([ 0,  1,  3,  4, 17, 18, 19, 20, 26, 34, 36, 37, 38, 43, 44, 45, 46, 47, 48, 49, 50, 51, 52,\n",
       "       54, 56, 59, 61, 62, 66, 67, 68, 69, 70, 71, 75, 76, 77, 80], dtype=int64)"
      ]
     },
     "execution_count": 5,
     "metadata": {},
     "output_type": "execute_result"
    }
   ],
   "source": [
    "column_numeric = np.argwhere(~np.isnan(tmp_mean)).squeeze()\n",
    "column_numeric"
   ]
  },
  {
   "cell_type": "code",
   "execution_count": 6,
   "id": "db943fef",
   "metadata": {},
   "outputs": [],
   "source": [
    "column_strings=column_strings.squeeze()"
   ]
  },
  {
   "cell_type": "code",
   "execution_count": 7,
   "id": "a294b5d6",
   "metadata": {},
   "outputs": [
    {
     "data": {
      "text/plain": [
       "(1461, 38)"
      ]
     },
     "execution_count": 7,
     "metadata": {},
     "output_type": "execute_result"
    }
   ],
   "source": [
    "da_n = np.genfromtxt('train.csv', delimiter=',', skip_header=False, autostrip=True, encoding='unicode_escape',\n",
    "                           usecols=column_numeric, dtype=np.str_)\n",
    "\n",
    "da_n.shape"
   ]
  },
  {
   "cell_type": "code",
   "execution_count": 8,
   "id": "b1f29bd9",
   "metadata": {},
   "outputs": [
    {
     "data": {
      "text/plain": [
       "array(['Id', 'MSSubClass', 'LotFrontage', 'LotArea', 'OverallQual', 'OverallCond', 'YearBuilt',\n",
       "       'YearRemodAdd', 'MasVnrArea', 'BsmtFinSF1', 'BsmtFinSF2', 'BsmtUnfSF', 'TotalBsmtSF',\n",
       "       '1stFlrSF', '2ndFlrSF', 'LowQualFinSF', 'GrLivArea', 'BsmtFullBath', 'BsmtHalfBath',\n",
       "       'FullBath', 'HalfBath', 'BedroomAbvGr', 'KitchenAbvGr', 'TotRmsAbvGrd', 'Fireplaces',\n",
       "       'GarageYrBlt', 'GarageCars', 'GarageArea', 'WoodDeckSF', 'OpenPorchSF', 'EnclosedPorch',\n",
       "       '3SsnPorch', 'ScreenPorch', 'PoolArea', 'MiscVal', 'MoSold', 'YrSold', 'SalePrice'],\n",
       "      dtype='<U13')"
      ]
     },
     "execution_count": 8,
     "metadata": {},
     "output_type": "execute_result"
    }
   ],
   "source": [
    "da_n[0]"
   ]
  },
  {
   "cell_type": "code",
   "execution_count": 9,
   "id": "3a7aad16",
   "metadata": {},
   "outputs": [
    {
     "data": {
      "text/plain": [
       "array(['Id', 'MSSubClass', 'LotFrontage', 'LotArea', 'OverallQual', 'OverallCond', 'YearBuilt',\n",
       "       'YearRemodAdd', 'MasVnrArea', 'BsmtFinSF1', 'BsmtFinSF2', 'BsmtUnfSF', 'TotalBsmtSF',\n",
       "       '1stFlrSF', '2ndFlrSF', 'LowQualFinSF', 'GrLivArea', 'BsmtFullBath', 'BsmtHalfBath',\n",
       "       'FullBath', 'HalfBath', 'BedroomAbvGr', 'KitchenAbvGr', 'TotRmsAbvGrd', 'Fireplaces',\n",
       "       'GarageYrBlt', 'GarageCars', 'GarageArea', 'WoodDeckSF', 'OpenPorchSF', 'EnclosedPorch',\n",
       "       '3SsnPorch', 'ScreenPorch', 'PoolArea', 'MiscVal', 'MoSold', 'YrSold', 'SalePrice'],\n",
       "      dtype='<U13')"
      ]
     },
     "execution_count": 9,
     "metadata": {},
     "output_type": "execute_result"
    }
   ],
   "source": [
    "header_numeric=da_n[0]\n",
    "header_numeric"
   ]
  },
  {
   "cell_type": "code",
   "execution_count": 10,
   "id": "3c15f130",
   "metadata": {},
   "outputs": [
    {
     "data": {
      "text/plain": [
       "(1461, 43)"
      ]
     },
     "execution_count": 10,
     "metadata": {},
     "output_type": "execute_result"
    }
   ],
   "source": [
    "data = np.genfromtxt('train.csv', delimiter=',', skip_header=False, autostrip=True, encoding='unicode_escape',\n",
    "                           usecols=column_strings, dtype=np.str_)\n",
    "\n",
    "data.shape"
   ]
  },
  {
   "cell_type": "code",
   "execution_count": 11,
   "id": "c5071fc9",
   "metadata": {},
   "outputs": [
    {
     "data": {
      "text/plain": [
       "array([['MSZoning', 'Street', 'Alley', ..., 'MiscFeature', 'SaleType', 'SaleCondition'],\n",
       "       ['RL', 'Pave', 'NA', ..., 'NA', 'WD', 'Normal'],\n",
       "       ['RL', 'Pave', 'NA', ..., 'NA', 'WD', 'Normal'],\n",
       "       ...,\n",
       "       ['RL', 'Pave', 'NA', ..., 'Shed', 'WD', 'Normal'],\n",
       "       ['RL', 'Pave', 'NA', ..., 'NA', 'WD', 'Normal'],\n",
       "       ['RL', 'Pave', 'NA', ..., 'NA', 'WD', 'Normal']], dtype='<U13')"
      ]
     },
     "execution_count": 11,
     "metadata": {},
     "output_type": "execute_result"
    }
   ],
   "source": [
    "data"
   ]
  },
  {
   "cell_type": "code",
   "execution_count": 12,
   "id": "913bf90e",
   "metadata": {},
   "outputs": [],
   "source": [
    "li=[]"
   ]
  },
  {
   "cell_type": "code",
   "execution_count": 13,
   "id": "319bfc5e",
   "metadata": {},
   "outputs": [],
   "source": [
    "#dropping na more then 50%\n",
    "for i in range(0,43):\n",
    "    x=np.unique(data[:, i],return_counts=True)\n",
    "    for j in range(len(x[0])):\n",
    "        if(x[0][j]=='NA'):\n",
    "            index=j\n",
    "            #print(x[1][index])\n",
    "            if(x[1][index]>720):\n",
    "                li.append(i)      "
   ]
  },
  {
   "cell_type": "code",
   "execution_count": 14,
   "id": "ea0b64ba",
   "metadata": {},
   "outputs": [
    {
     "data": {
      "text/plain": [
       "[2, 38, 39, 40]"
      ]
     },
     "execution_count": 14,
     "metadata": {},
     "output_type": "execute_result"
    }
   ],
   "source": [
    "li"
   ]
  },
  {
   "cell_type": "code",
   "execution_count": 15,
   "id": "0eb053ee",
   "metadata": {},
   "outputs": [
    {
     "name": "stdout",
     "output_type": "stream",
     "text": [
      "[40, 39, 38, 2]\n"
     ]
    }
   ],
   "source": [
    "li.reverse()\n",
    "print(li)"
   ]
  },
  {
   "cell_type": "code",
   "execution_count": 16,
   "id": "9328cf3e",
   "metadata": {},
   "outputs": [
    {
     "data": {
      "text/plain": [
       "(1461, 43)"
      ]
     },
     "execution_count": 16,
     "metadata": {},
     "output_type": "execute_result"
    }
   ],
   "source": [
    "data.shape"
   ]
  },
  {
   "cell_type": "code",
   "execution_count": 17,
   "id": "263a5f02",
   "metadata": {},
   "outputs": [
    {
     "data": {
      "text/plain": [
       "array([['MSZoning', 'Street', 'Alley', ..., 'MiscFeature', 'SaleType', 'SaleCondition'],\n",
       "       ['RL', 'Pave', 'NA', ..., 'NA', 'WD', 'Normal'],\n",
       "       ['RL', 'Pave', 'NA', ..., 'NA', 'WD', 'Normal'],\n",
       "       ...,\n",
       "       ['RL', 'Pave', 'NA', ..., 'Shed', 'WD', 'Normal'],\n",
       "       ['RL', 'Pave', 'NA', ..., 'NA', 'WD', 'Normal'],\n",
       "       ['RL', 'Pave', 'NA', ..., 'NA', 'WD', 'Normal']], dtype='<U13')"
      ]
     },
     "execution_count": 17,
     "metadata": {},
     "output_type": "execute_result"
    }
   ],
   "source": [
    "data"
   ]
  },
  {
   "cell_type": "code",
   "execution_count": 18,
   "id": "868ebe0c",
   "metadata": {},
   "outputs": [],
   "source": [
    "for i in li:\n",
    "    data=np.delete(data,i,1)\n",
    "    #print('H')"
   ]
  },
  {
   "cell_type": "code",
   "execution_count": 19,
   "id": "4d846161",
   "metadata": {},
   "outputs": [
    {
     "data": {
      "text/plain": [
       "array([['MSZoning', 'Street', 'LotShape', ..., 'PavedDrive', 'SaleType', 'SaleCondition'],\n",
       "       ['RL', 'Pave', 'Reg', ..., 'Y', 'WD', 'Normal'],\n",
       "       ['RL', 'Pave', 'Reg', ..., 'Y', 'WD', 'Normal'],\n",
       "       ...,\n",
       "       ['RL', 'Pave', 'Reg', ..., 'Y', 'WD', 'Normal'],\n",
       "       ['RL', 'Pave', 'Reg', ..., 'Y', 'WD', 'Normal'],\n",
       "       ['RL', 'Pave', 'Reg', ..., 'Y', 'WD', 'Normal']], dtype='<U13')"
      ]
     },
     "execution_count": 19,
     "metadata": {},
     "output_type": "execute_result"
    }
   ],
   "source": [
    "data"
   ]
  },
  {
   "cell_type": "code",
   "execution_count": 20,
   "id": "4bcc7e7b",
   "metadata": {},
   "outputs": [
    {
     "data": {
      "text/plain": [
       "(1461, 39)"
      ]
     },
     "execution_count": 20,
     "metadata": {},
     "output_type": "execute_result"
    }
   ],
   "source": [
    "data.shape"
   ]
  },
  {
   "cell_type": "code",
   "execution_count": 21,
   "id": "df09f8c2",
   "metadata": {},
   "outputs": [],
   "source": [
    "import numpy as geek "
   ]
  },
  {
   "cell_type": "code",
   "execution_count": 22,
   "id": "eadaa701",
   "metadata": {},
   "outputs": [],
   "source": [
    "for i in range(0,len(data[0])):\n",
    "    x=np.unique(data[:, i],return_counts=True)\n",
    "    index = np.argmax(x[1], axis=None)\n",
    "    for j in range(len(data[:, i])):\n",
    "        data[:, i][j]=geek.char.replace(data[:, i][j], 'NA', x[0][index], count = 1)"
   ]
  },
  {
   "cell_type": "code",
   "execution_count": 23,
   "id": "1062942d",
   "metadata": {},
   "outputs": [
    {
     "data": {
      "text/plain": [
       "array([['MSZoning', 'Street', 'LotShape', ..., 'PavedDrive', 'SaleType', 'SaleCondition'],\n",
       "       ['RL', 'Pave', 'Reg', ..., 'Y', 'WD', 'Normal'],\n",
       "       ['RL', 'Pave', 'Reg', ..., 'Y', 'WD', 'Normal'],\n",
       "       ...,\n",
       "       ['RL', 'Pave', 'Reg', ..., 'Y', 'WD', 'Normal'],\n",
       "       ['RL', 'Pave', 'Reg', ..., 'Y', 'WD', 'Normal'],\n",
       "       ['RL', 'Pave', 'Reg', ..., 'Y', 'WD', 'Normal']], dtype='<U13')"
      ]
     },
     "execution_count": 23,
     "metadata": {},
     "output_type": "execute_result"
    }
   ],
   "source": [
    "data"
   ]
  },
  {
   "cell_type": "code",
   "execution_count": 24,
   "id": "952ed859",
   "metadata": {},
   "outputs": [],
   "source": [
    "temp=data[1:]"
   ]
  },
  {
   "cell_type": "code",
   "execution_count": 25,
   "id": "228a6276",
   "metadata": {},
   "outputs": [
    {
     "data": {
      "text/plain": [
       "array([['RL', 'Pave', 'Reg', ..., 'Y', 'WD', 'Normal'],\n",
       "       ['RL', 'Pave', 'Reg', ..., 'Y', 'WD', 'Normal'],\n",
       "       ['RL', 'Pave', 'IR1', ..., 'Y', 'WD', 'Normal'],\n",
       "       ...,\n",
       "       ['RL', 'Pave', 'Reg', ..., 'Y', 'WD', 'Normal'],\n",
       "       ['RL', 'Pave', 'Reg', ..., 'Y', 'WD', 'Normal'],\n",
       "       ['RL', 'Pave', 'Reg', ..., 'Y', 'WD', 'Normal']], dtype='<U13')"
      ]
     },
     "execution_count": 25,
     "metadata": {},
     "output_type": "execute_result"
    }
   ],
   "source": [
    "temp"
   ]
  },
  {
   "cell_type": "code",
   "execution_count": 26,
   "id": "bac607bd",
   "metadata": {},
   "outputs": [],
   "source": [
    "for i in range(len(temp[0])):\n",
    "    keys = np.unique(temp[:,i])\n",
    "    values = range(1, keys.shape[0]+1)\n",
    "    dict_col1 = dict(zip(keys,values))\n",
    "    for g in keys:\n",
    "        temp[:,i] = np.where(temp[:,i]==g, dict_col1.get(g), temp[:,i])\n",
    "    "
   ]
  },
  {
   "cell_type": "code",
   "execution_count": 27,
   "id": "47668e2e",
   "metadata": {},
   "outputs": [
    {
     "data": {
      "text/plain": [
       "array([['4', '2', '4', ..., '3', '9', '5'],\n",
       "       ['4', '2', '4', ..., '3', '9', '5'],\n",
       "       ['4', '2', '1', ..., '3', '9', '5'],\n",
       "       ...,\n",
       "       ['4', '2', '4', ..., '3', '9', '5'],\n",
       "       ['4', '2', '4', ..., '3', '9', '5'],\n",
       "       ['4', '2', '4', ..., '3', '9', '5']], dtype='<U13')"
      ]
     },
     "execution_count": 27,
     "metadata": {},
     "output_type": "execute_result"
    }
   ],
   "source": [
    "temp"
   ]
  },
  {
   "cell_type": "code",
   "execution_count": 28,
   "id": "9cfb59d4",
   "metadata": {},
   "outputs": [
    {
     "data": {
      "text/plain": [
       "array([[4, 2, 4, ..., 3, 9, 5],\n",
       "       [4, 2, 4, ..., 3, 9, 5],\n",
       "       [4, 2, 1, ..., 3, 9, 5],\n",
       "       ...,\n",
       "       [4, 2, 4, ..., 3, 9, 5],\n",
       "       [4, 2, 4, ..., 3, 9, 5],\n",
       "       [4, 2, 4, ..., 3, 9, 5]])"
      ]
     },
     "execution_count": 28,
     "metadata": {},
     "output_type": "execute_result"
    }
   ],
   "source": [
    "temp = temp.astype(np.int32)\n",
    "temp"
   ]
  },
  {
   "cell_type": "code",
   "execution_count": 29,
   "id": "9923ecdb",
   "metadata": {},
   "outputs": [
    {
     "data": {
      "text/plain": [
       "array([['MSZoning', 'Street', 'LotShape', ..., 'PavedDrive', 'SaleType', 'SaleCondition'],\n",
       "       ['4', '2', '4', ..., '3', '9', '5'],\n",
       "       ['4', '2', '4', ..., '3', '9', '5'],\n",
       "       ...,\n",
       "       ['4', '2', '4', ..., '3', '9', '5'],\n",
       "       ['4', '2', '4', ..., '3', '9', '5'],\n",
       "       ['4', '2', '4', ..., '3', '9', '5']], dtype='<U13')"
      ]
     },
     "execution_count": 29,
     "metadata": {},
     "output_type": "execute_result"
    }
   ],
   "source": [
    "data"
   ]
  },
  {
   "cell_type": "code",
   "execution_count": 30,
   "id": "5009c650",
   "metadata": {},
   "outputs": [
    {
     "data": {
      "text/plain": [
       "array(['MSZoning', 'Street', 'LotShape', 'LandContour', 'Utilities', 'LotConfig', 'LandSlope',\n",
       "       'Neighborhood', 'Condition1', 'Condition2', 'BldgType', 'HouseStyle', 'RoofStyle',\n",
       "       'RoofMatl', 'Exterior1st', 'Exterior2nd', 'MasVnrType', 'ExterQual', 'ExterCond',\n",
       "       'Foundation', 'BsmtQual', 'BsmtCond', 'BsmtExposure', 'BsmtFinType1', 'BsmtFinType2',\n",
       "       'Heating', 'HeatingQC', 'CentralAir', 'Electrical', 'KitchenQual', 'Functional',\n",
       "       'FireplaceQu', 'GarageType', 'GarageFinish', 'GarageQual', 'GarageCond', 'PavedDrive',\n",
       "       'SaleType', 'SaleCondition'], dtype='<U13')"
      ]
     },
     "execution_count": 30,
     "metadata": {},
     "output_type": "execute_result"
    }
   ],
   "source": [
    "header_strings=data[0]\n",
    "header_strings"
   ]
  },
  {
   "cell_type": "code",
   "execution_count": 31,
   "id": "443781d9",
   "metadata": {},
   "outputs": [
    {
     "data": {
      "text/plain": [
       "array([[4, 2, 4, ..., 3, 9, 5],\n",
       "       [4, 2, 4, ..., 3, 9, 5],\n",
       "       [4, 2, 1, ..., 3, 9, 5],\n",
       "       ...,\n",
       "       [4, 2, 4, ..., 3, 9, 5],\n",
       "       [4, 2, 4, ..., 3, 9, 5],\n",
       "       [4, 2, 4, ..., 3, 9, 5]])"
      ]
     },
     "execution_count": 31,
     "metadata": {},
     "output_type": "execute_result"
    }
   ],
   "source": [
    "temp"
   ]
  },
  {
   "cell_type": "code",
   "execution_count": 32,
   "id": "8e58b563",
   "metadata": {},
   "outputs": [],
   "source": [
    "def checkpoint(filename, checkpoint_header, chekpoint_data):\n",
    "    np.savez(filename, header=checkpoint_header, data=chekpoint_data)\n",
    "    checkpoint_variable = np.load(filename+\".npz\")\n",
    "    return checkpoint_variable"
   ]
  },
  {
   "cell_type": "code",
   "execution_count": 33,
   "id": "0f35b2cb",
   "metadata": {},
   "outputs": [],
   "source": [
    "checkpoint_strings = checkpoint(\"Checkpoint-Strings\", header_strings, temp)"
   ]
  },
  {
   "cell_type": "code",
   "execution_count": 34,
   "id": "ae1cfda5",
   "metadata": {},
   "outputs": [
    {
     "data": {
      "text/plain": [
       "array([[4, 2, 4, ..., 3, 9, 5],\n",
       "       [4, 2, 4, ..., 3, 9, 5],\n",
       "       [4, 2, 1, ..., 3, 9, 5],\n",
       "       ...,\n",
       "       [4, 2, 4, ..., 3, 9, 5],\n",
       "       [4, 2, 4, ..., 3, 9, 5],\n",
       "       [4, 2, 4, ..., 3, 9, 5]])"
      ]
     },
     "execution_count": 34,
     "metadata": {},
     "output_type": "execute_result"
    }
   ],
   "source": [
    "checkpoint_strings[\"data\"]"
   ]
  },
  {
   "cell_type": "code",
   "execution_count": 35,
   "id": "45236348",
   "metadata": {},
   "outputs": [
    {
     "data": {
      "text/plain": [
       "array(['MSZoning', 'Street', 'LotShape', 'LandContour', 'Utilities', 'LotConfig', 'LandSlope',\n",
       "       'Neighborhood', 'Condition1', 'Condition2', 'BldgType', 'HouseStyle', 'RoofStyle',\n",
       "       'RoofMatl', 'Exterior1st', 'Exterior2nd', 'MasVnrType', 'ExterQual', 'ExterCond',\n",
       "       'Foundation', 'BsmtQual', 'BsmtCond', 'BsmtExposure', 'BsmtFinType1', 'BsmtFinType2',\n",
       "       'Heating', 'HeatingQC', 'CentralAir', 'Electrical', 'KitchenQual', 'Functional',\n",
       "       'FireplaceQu', 'GarageType', 'GarageFinish', 'GarageQual', 'GarageCond', 'PavedDrive',\n",
       "       'SaleType', 'SaleCondition'], dtype='<U13')"
      ]
     },
     "execution_count": 35,
     "metadata": {},
     "output_type": "execute_result"
    }
   ],
   "source": [
    "checkpoint_strings[\"header\"]"
   ]
  },
  {
   "cell_type": "code",
   "execution_count": 36,
   "id": "21686349",
   "metadata": {},
   "outputs": [
    {
     "data": {
      "text/plain": [
       "array([[     1.,     60.,     65., ...,      2.,   2008., 208500.],\n",
       "       [     2.,     20.,     80., ...,      5.,   2007., 181500.],\n",
       "       [     3.,     60.,     68., ...,      9.,   2008., 223500.],\n",
       "       ...,\n",
       "       [  1458.,     70.,     66., ...,      5.,   2010., 266500.],\n",
       "       [  1459.,     20.,     68., ...,      4.,   2010., 142125.],\n",
       "       [  1460.,     20.,     75., ...,      6.,   2008., 147500.]])"
      ]
     },
     "execution_count": 36,
     "metadata": {},
     "output_type": "execute_result"
    }
   ],
   "source": [
    "data_numeric = np.genfromtxt('train.csv', delimiter=',', skip_header=True, autostrip=True, encoding='unicode_escape',\n",
    "                           usecols=column_numeric)\n",
    "\n",
    "data_numeric"
   ]
  },
  {
   "cell_type": "code",
   "execution_count": 37,
   "id": "0def79e0",
   "metadata": {},
   "outputs": [
    {
     "name": "stdout",
     "output_type": "stream",
     "text": [
      "0, 0, 259, 0, 0, 0, 0, 0, 8, 0, 0, 0, 0, 0, 0, 0, 0, 0, 0, 0, 0, 0, 0, 0, 0, 81, 0, 0, 0, 0, 0, 0, 0, 0, 0, 0, 0, 0, "
     ]
    }
   ],
   "source": [
    "x = np.isnan(data_numeric).sum(axis=0)\n",
    "for n in x:\n",
    "    print(n, end=', ')"
   ]
  },
  {
   "cell_type": "code",
   "execution_count": 38,
   "id": "a6ecd080",
   "metadata": {},
   "outputs": [],
   "source": [
    "tmp_mean=np.nanmean(data_numeric,axis=0)\n",
    "#col_mean = np.nanmean(a, axis=0)"
   ]
  },
  {
   "cell_type": "code",
   "execution_count": 39,
   "id": "03c45af8",
   "metadata": {},
   "outputs": [
    {
     "data": {
      "text/plain": [
       "array([   730.5    ,     56.89726,     70.04996,  10516.82808,      6.09932,      5.57534,\n",
       "         1971.26781,   1984.86575,    103.68526,    443.63973,     46.54932,    567.24041,\n",
       "         1057.42945,   1162.62671,    346.99247,      5.84452,   1515.4637 ,      0.42534,\n",
       "            0.05753,      1.56507,      0.38288,      2.86644,      1.04658,      6.51781,\n",
       "            0.61301,   1978.50616,      1.76712,    472.98014,     94.24452,     46.66027,\n",
       "           21.95411,      3.40959,     15.06096,      2.7589 ,     43.48904,      6.32192,\n",
       "         2007.81575, 180921.19589])"
      ]
     },
     "execution_count": 39,
     "metadata": {},
     "output_type": "execute_result"
    }
   ],
   "source": [
    "tmp_mean"
   ]
  },
  {
   "cell_type": "code",
   "execution_count": 40,
   "id": "b62905e4",
   "metadata": {},
   "outputs": [],
   "source": [
    "inds = np.where(np.isnan(data_numeric))\n",
    "\n",
    "#Place column means in the indices. Align the arrays using take\n",
    "data_numeric[inds] = np.take(tmp_mean, inds[1])"
   ]
  },
  {
   "cell_type": "code",
   "execution_count": 41,
   "id": "41ba63a9",
   "metadata": {},
   "outputs": [
    {
     "data": {
      "text/plain": [
       "array([[     1.,     60.,     65., ...,      2.,   2008., 208500.],\n",
       "       [     2.,     20.,     80., ...,      5.,   2007., 181500.],\n",
       "       [     3.,     60.,     68., ...,      9.,   2008., 223500.],\n",
       "       ...,\n",
       "       [  1458.,     70.,     66., ...,      5.,   2010., 266500.],\n",
       "       [  1459.,     20.,     68., ...,      4.,   2010., 142125.],\n",
       "       [  1460.,     20.,     75., ...,      6.,   2008., 147500.]])"
      ]
     },
     "execution_count": 41,
     "metadata": {},
     "output_type": "execute_result"
    }
   ],
   "source": [
    "data_numeric"
   ]
  },
  {
   "cell_type": "code",
   "execution_count": 42,
   "id": "903f36e7",
   "metadata": {},
   "outputs": [
    {
     "name": "stdout",
     "output_type": "stream",
     "text": [
      "0, 0, 0, 0, 0, 0, 0, 0, 0, 0, 0, 0, 0, 0, 0, 0, 0, 0, 0, 0, 0, 0, 0, 0, 0, 0, 0, 0, 0, 0, 0, 0, 0, 0, 0, 0, 0, 0, "
     ]
    }
   ],
   "source": [
    "x = np.isnan(data_numeric).sum(axis=0)\n",
    "for n in x:\n",
    "    print(n, end=', ')"
   ]
  },
  {
   "cell_type": "code",
   "execution_count": 43,
   "id": "94b29f06",
   "metadata": {},
   "outputs": [],
   "source": [
    "checkpoint_strings = checkpoint(\"Checkpoint-numeric\", header_numeric, data_numeric)"
   ]
  },
  {
   "cell_type": "code",
   "execution_count": 44,
   "id": "637d4f13",
   "metadata": {},
   "outputs": [
    {
     "data": {
      "text/plain": [
       "array([[     1.,     60.,     65., ...,      2.,   2008., 208500.],\n",
       "       [     2.,     20.,     80., ...,      5.,   2007., 181500.],\n",
       "       [     3.,     60.,     68., ...,      9.,   2008., 223500.],\n",
       "       ...,\n",
       "       [  1458.,     70.,     66., ...,      5.,   2010., 266500.],\n",
       "       [  1459.,     20.,     68., ...,      4.,   2010., 142125.],\n",
       "       [  1460.,     20.,     75., ...,      6.,   2008., 147500.]])"
      ]
     },
     "execution_count": 44,
     "metadata": {},
     "output_type": "execute_result"
    }
   ],
   "source": [
    "checkpoint_strings[\"data\"]"
   ]
  },
  {
   "cell_type": "code",
   "execution_count": 45,
   "id": "eacbb5b1",
   "metadata": {},
   "outputs": [
    {
     "data": {
      "text/plain": [
       "array(['Id', 'MSSubClass', 'LotFrontage', 'LotArea', 'OverallQual', 'OverallCond', 'YearBuilt',\n",
       "       'YearRemodAdd', 'MasVnrArea', 'BsmtFinSF1', 'BsmtFinSF2', 'BsmtUnfSF', 'TotalBsmtSF',\n",
       "       '1stFlrSF', '2ndFlrSF', 'LowQualFinSF', 'GrLivArea', 'BsmtFullBath', 'BsmtHalfBath',\n",
       "       'FullBath', 'HalfBath', 'BedroomAbvGr', 'KitchenAbvGr', 'TotRmsAbvGrd', 'Fireplaces',\n",
       "       'GarageYrBlt', 'GarageCars', 'GarageArea', 'WoodDeckSF', 'OpenPorchSF', 'EnclosedPorch',\n",
       "       '3SsnPorch', 'ScreenPorch', 'PoolArea', 'MiscVal', 'MoSold', 'YrSold', 'SalePrice'],\n",
       "      dtype='<U13')"
      ]
     },
     "execution_count": 45,
     "metadata": {},
     "output_type": "execute_result"
    }
   ],
   "source": [
    "checkpoint_strings[\"header\"]"
   ]
  },
  {
   "cell_type": "code",
   "execution_count": null,
   "id": "7af880e6",
   "metadata": {},
   "outputs": [],
   "source": []
  }
 ],
 "metadata": {
  "kernelspec": {
   "display_name": "Python 3",
   "language": "python",
   "name": "python3"
  },
  "language_info": {
   "codemirror_mode": {
    "name": "ipython",
    "version": 3
   },
   "file_extension": ".py",
   "mimetype": "text/x-python",
   "name": "python",
   "nbconvert_exporter": "python",
   "pygments_lexer": "ipython3",
   "version": "3.8.8"
  }
 },
 "nbformat": 4,
 "nbformat_minor": 5
}
