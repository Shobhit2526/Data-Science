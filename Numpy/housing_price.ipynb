{
 "cells": [
  {
   "cell_type": "markdown",
   "id": "f0b9626a",
   "metadata": {},
   "source": [
    "## IMPORTING DATA"
   ]
  },
  {
   "cell_type": "code",
   "execution_count": 1,
   "id": "56d3e4a4",
   "metadata": {},
   "outputs": [],
   "source": [
    "import numpy as np\n",
    "np.set_printoptions(suppress=True, linewidth=100, precision=5)"
   ]
  },
  {
   "cell_type": "markdown",
   "id": "9ac6323a",
   "metadata": {},
   "source": [
    "## LOADING\n",
    "Load the data using $np.loadtxt()$ or np.genfromtxt(). Mostly, genfromtxt is preferred as missing values can be handled as specified.\n",
    "\n",
    "By default, np.genfromtxt() uses dtype=float  that's why string columns are converted to Nan’s because, after all, they're Not A Number.\n",
    "\n",
    "Since the string and float values can’t be accessed simultaneously, it requires splitting the columns into string and float columns separately.\n",
    "\n"
   ]
  },
  {
   "cell_type": "code",
   "execution_count": 2,
   "id": "0537a564",
   "metadata": {},
   "outputs": [
    {
     "data": {
      "text/plain": [
       "array([[    nan,     nan,     nan, ...,     nan,     nan,     nan],\n",
       "       [     1.,     60.,     nan, ...,     nan,     nan, 208500.],\n",
       "       [     2.,     20.,     nan, ...,     nan,     nan, 181500.],\n",
       "       ...,\n",
       "       [  1458.,     70.,     nan, ...,     nan,     nan, 266500.],\n",
       "       [  1459.,     20.,     nan, ...,     nan,     nan, 142125.],\n",
       "       [  1460.,     20.,     nan, ...,     nan,     nan, 147500.]])"
      ]
     },
     "execution_count": 2,
     "metadata": {},
     "output_type": "execute_result"
    }
   ],
   "source": [
    "data = np.genfromtxt('train.csv', delimiter=',', encoding='unicode_escape', skip_header=0,dtype=float)\n",
    "data"
   ]
  },
  {
   "cell_type": "markdown",
   "id": "09c5066c",
   "metadata": {},
   "source": [
    "## Splitting\n",
    "Take mean column-wise using np.nanmean() to compute the arithmetic mean along the specified axis, ignoring Nan’s.\n"
   ]
  },
  {
   "cell_type": "code",
   "execution_count": 3,
   "id": "5af3b23d",
   "metadata": {},
   "outputs": [
    {
     "name": "stderr",
     "output_type": "stream",
     "text": [
      "<ipython-input-3-14960b9fd4d0>:1: RuntimeWarning: Mean of empty slice\n",
      "  tmp_mean = np.nanmean(data, axis=0)\n"
     ]
    },
    {
     "data": {
      "text/plain": [
       "array([   730.5    ,     56.89726,          nan,     70.04996,  10516.82808,          nan,\n",
       "                nan,          nan,          nan,          nan,          nan,          nan,\n",
       "                nan,          nan,          nan,          nan,          nan,      6.09932,\n",
       "            5.57534,   1971.26781,   1984.86575,          nan,          nan,          nan,\n",
       "                nan,          nan,    103.68526,          nan,          nan,          nan,\n",
       "                nan,          nan,          nan,          nan,    443.63973,          nan,\n",
       "           46.54932,    567.24041,   1057.42945,          nan,          nan,          nan,\n",
       "                nan,   1162.62671,    346.99247,      5.84452,   1515.4637 ,      0.42534,\n",
       "            0.05753,      1.56507,      0.38288,      2.86644,      1.04658,          nan,\n",
       "            6.51781,          nan,      0.61301,          nan,          nan,   1978.50616,\n",
       "                nan,      1.76712,    472.98014,          nan,          nan,          nan,\n",
       "           94.24452,     46.66027,     21.95411,      3.40959,     15.06096,      2.7589 ,\n",
       "                nan,          nan,          nan,     43.48904,      6.32192,   2007.81575,\n",
       "                nan,          nan, 180921.19589])"
      ]
     },
     "execution_count": 3,
     "metadata": {},
     "output_type": "execute_result"
    }
   ],
   "source": [
    "tmp_mean = np.nanmean(data, axis=0)\n",
    "tmp_mean"
   ]
  },
  {
   "cell_type": "markdown",
   "id": "1f3f5057",
   "metadata": {},
   "source": [
    "In the below code shell argwhere() is used to find the indices of null values in tmp_mean as NaN values in tmp_mean indicates string columns and for numeric columns find indices of non-null values in tmp_mean."
   ]
  },
  {
   "cell_type": "code",
   "execution_count": 4,
   "id": "5ed530e3",
   "metadata": {},
   "outputs": [],
   "source": [
    "column_strings = np.argwhere(np.isnan(tmp_mean))\n",
    "column_numeric = np.argwhere(~np.isnan(tmp_mean))"
   ]
  },
  {
   "cell_type": "markdown",
   "id": "4e39da90",
   "metadata": {},
   "source": [
    "Using np.squeeze() remove single-dimensional entries from the shape of numeric and string columns."
   ]
  },
  {
   "cell_type": "code",
   "execution_count": 5,
   "id": "272c2548",
   "metadata": {},
   "outputs": [],
   "source": [
    "column_numeric = column_numeric.squeeze()\n",
    "column_strings=column_strings.squeeze()"
   ]
  },
  {
   "cell_type": "code",
   "execution_count": 6,
   "id": "e7e7af3f",
   "metadata": {},
   "outputs": [
    {
     "data": {
      "text/plain": [
       "(array([ 2,  5,  6,  7,  8,  9, 10, 11, 12, 13, 14, 15, 16, 21, 22, 23, 24, 25, 27, 28, 29, 30, 31,\n",
       "        32, 33, 35, 39, 40, 41, 42, 53, 55, 57, 58, 60, 63, 64, 65, 72, 73, 74, 78, 79], dtype=int64),\n",
       " array([ 2,  5,  6,  7,  8,  9, 10, 11, 12, 13, 14, 15, 16, 21, 22, 23, 24, 25, 27, 28, 29, 30, 31,\n",
       "        32, 33, 35, 39, 40, 41, 42, 53, 55, 57, 58, 60, 63, 64, 65, 72, 73, 74, 78, 79], dtype=int64),\n",
       " array([ 2,  5,  6,  7,  8,  9, 10, 11, 12, 13, 14, 15, 16, 21, 22, 23, 24, 25, 27, 28, 29, 30, 31,\n",
       "        32, 33, 35, 39, 40, 41, 42, 53, 55, 57, 58, 60, 63, 64, 65, 72, 73, 74, 78, 79], dtype=int64))"
      ]
     },
     "execution_count": 6,
     "metadata": {},
     "output_type": "execute_result"
    }
   ],
   "source": [
    "column_strings.squeeze(), column_strings.ravel(), column_strings.flatten()"
   ]
  },
  {
   "cell_type": "markdown",
   "id": "7e57a568",
   "metadata": {},
   "source": [
    "## Accessing String and Numeric Columns \n",
    "Re-Import data by specifying data type and indices of columns to consider using dtype and usecols parameters respectively in genfromtxt()."
   ]
  },
  {
   "cell_type": "code",
   "execution_count": 7,
   "id": "a294b5d6",
   "metadata": {},
   "outputs": [],
   "source": [
    "data_numeric= np.genfromtxt('train.csv', delimiter=',', skip_header=True, autostrip=True, encoding='unicode_escape',\n",
    "                           usecols=column_numeric)\n",
    "\n",
    "data_string = np.genfromtxt('train.csv', delimiter=',', skip_header=False, autostrip=True, encoding='unicode_escape',\n",
    "                           usecols=column_strings, dtype=np.str_)\n",
    "\n"
   ]
  },
  {
   "cell_type": "markdown",
   "id": "c4e12427",
   "metadata": {},
   "source": [
    "# Pre-processing Steps"
   ]
  },
  {
   "cell_type": "markdown",
   "id": "1d5285b4",
   "metadata": {},
   "source": [
    "## STRING COLUMN PRE-PROCESSING"
   ]
  },
  {
   "cell_type": "code",
   "execution_count": 8,
   "id": "598e7606",
   "metadata": {},
   "outputs": [],
   "source": [
    "#dropping na more then 50%\n",
    "Dropping_Column_Indices=[]\n",
    "for i in range(0,43):\n",
    "    x=np.unique(data_string[:, i],return_counts=True)\n",
    "    for j in range(len(x[0])):\n",
    "        if(x[0][j]=='NA'):\n",
    "            index=j\n",
    "            #print(x[1][index])\n",
    "            if(x[1][index]>720):\n",
    "                Dropping_Column_Indices.append(i)  "
   ]
  },
  {
   "cell_type": "code",
   "execution_count": 9,
   "id": "8263ce81",
   "metadata": {},
   "outputs": [
    {
     "name": "stdout",
     "output_type": "stream",
     "text": [
      "[40, 39, 38, 2]\n"
     ]
    }
   ],
   "source": [
    "Dropping_Column_Indices.reverse()\n",
    "print(Dropping_Column_Indices)"
   ]
  },
  {
   "cell_type": "code",
   "execution_count": 10,
   "id": "306b45bd",
   "metadata": {},
   "outputs": [],
   "source": [
    "for i in Dropping_Column_Indices:\n",
    "    data_string=np.delete(data_string,i,1)"
   ]
  },
  {
   "cell_type": "code",
   "execution_count": 11,
   "id": "238b0ee4",
   "metadata": {},
   "outputs": [],
   "source": [
    "for i in range(0,len(data_string[0])):\n",
    "    x=np.unique(data_string[:, i],return_counts=True)\n",
    "    index = np.argmax(x[1], axis=None)\n",
    "    for j in range(len(data_string[:, i])):\n",
    "        data_string[:, i][j]=np.char.replace(data_string[:, i][j], 'NA', x[0][index], count = 1)"
   ]
  },
  {
   "cell_type": "code",
   "execution_count": 12,
   "id": "87bcb5b7",
   "metadata": {},
   "outputs": [
    {
     "data": {
      "text/plain": [
       "array(['MSZoning', 'Street', 'LotShape', 'LandContour', 'Utilities', 'LotConfig', 'LandSlope',\n",
       "       'Neighborhood', 'Condition1', 'Condition2', 'BldgType', 'HouseStyle', 'RoofStyle',\n",
       "       'RoofMatl', 'Exterior1st', 'Exterior2nd', 'MasVnrType', 'ExterQual', 'ExterCond',\n",
       "       'Foundation', 'BsmtQual', 'BsmtCond', 'BsmtExposure', 'BsmtFinType1', 'BsmtFinType2',\n",
       "       'Heating', 'HeatingQC', 'CentralAir', 'Electrical', 'KitchenQual', 'Functional',\n",
       "       'FireplaceQu', 'GarageType', 'GarageFinish', 'GarageQual', 'GarageCond', 'PavedDrive',\n",
       "       'SaleType', 'SaleCondition'], dtype='<U13')"
      ]
     },
     "execution_count": 12,
     "metadata": {},
     "output_type": "execute_result"
    }
   ],
   "source": [
    "header_string=data_string[0]\n",
    "header_string"
   ]
  },
  {
   "cell_type": "code",
   "execution_count": 13,
   "id": "952ed859",
   "metadata": {},
   "outputs": [],
   "source": [
    "data_string=data_string[1:]"
   ]
  },
  {
   "cell_type": "code",
   "execution_count": 14,
   "id": "bac607bd",
   "metadata": {},
   "outputs": [],
   "source": [
    "for i in range(len(data_string[0])):\n",
    "    keys = np.unique(data_string[:,i])\n",
    "    values = range(1, keys.shape[0]+1)\n",
    "    dict_col = dict(zip(keys,values))\n",
    "    for g in keys:\n",
    "        data_string[:,i] = np.where(data_string[:,i]==g, dict_col.get(g), data_string[:,i])\n",
    "    "
   ]
  },
  {
   "cell_type": "code",
   "execution_count": 15,
   "id": "47668e2e",
   "metadata": {},
   "outputs": [
    {
     "data": {
      "text/plain": [
       "array([['4', '2', '4', ..., '3', '9', '5'],\n",
       "       ['4', '2', '4', ..., '3', '9', '5'],\n",
       "       ['4', '2', '1', ..., '3', '9', '5'],\n",
       "       ...,\n",
       "       ['4', '2', '4', ..., '3', '9', '5'],\n",
       "       ['4', '2', '4', ..., '3', '9', '5'],\n",
       "       ['4', '2', '4', ..., '3', '9', '5']], dtype='<U13')"
      ]
     },
     "execution_count": 15,
     "metadata": {},
     "output_type": "execute_result"
    }
   ],
   "source": [
    "data_string"
   ]
  },
  {
   "cell_type": "code",
   "execution_count": 16,
   "id": "9cfb59d4",
   "metadata": {},
   "outputs": [
    {
     "data": {
      "text/plain": [
       "array([[4, 2, 4, ..., 3, 9, 5],\n",
       "       [4, 2, 4, ..., 3, 9, 5],\n",
       "       [4, 2, 1, ..., 3, 9, 5],\n",
       "       ...,\n",
       "       [4, 2, 4, ..., 3, 9, 5],\n",
       "       [4, 2, 4, ..., 3, 9, 5],\n",
       "       [4, 2, 4, ..., 3, 9, 5]])"
      ]
     },
     "execution_count": 16,
     "metadata": {},
     "output_type": "execute_result"
    }
   ],
   "source": [
    "data_string = data_string.astype(np.int32)\n",
    "data_string"
   ]
  },
  {
   "cell_type": "markdown",
   "id": "3b3cf30b",
   "metadata": {},
   "source": [
    "## NUMERIC COLUMN PRE-PROCESSING"
   ]
  },
  {
   "cell_type": "code",
   "execution_count": 17,
   "id": "6281489b",
   "metadata": {},
   "outputs": [
    {
     "name": "stdout",
     "output_type": "stream",
     "text": [
      "0, 0, 259, 0, 0, 0, 0, 0, 8, 0, 0, 0, 0, 0, 0, 0, 0, 0, 0, 0, 0, 0, 0, 0, 0, 81, 0, 0, 0, 0, 0, 0, 0, 0, 0, 0, 0, 0, "
     ]
    }
   ],
   "source": [
    "x = np.isnan(data_numeric).sum(axis=0)\n",
    "for n in x:\n",
    "    print(n, end=', ')"
   ]
  },
  {
   "cell_type": "code",
   "execution_count": 18,
   "id": "5243ea85",
   "metadata": {},
   "outputs": [],
   "source": [
    "columnwise_mean=np.nanmean(data_numeric,axis=0)\n",
    "\n",
    "indices = np.where(np.isnan(data_numeric))\n",
    "\n",
    "data_numeric[indices] = np.take(columnwise_mean, indices[1])"
   ]
  },
  {
   "cell_type": "code",
   "execution_count": 19,
   "id": "79ee63a1",
   "metadata": {},
   "outputs": [
    {
     "name": "stderr",
     "output_type": "stream",
     "text": [
      "<ipython-input-19-677372752d5f>:2: DeprecationWarning: `np.str` is a deprecated alias for the builtin `str`. To silence this warning, use `str` by itself. Doing this will not modify any behavior and is safe. If you specifically wanted the numpy scalar type, use `np.str_` here.\n",
      "Deprecated in NumPy 1.20; for more details and guidance: https://numpy.org/devdocs/release/1.20.0-notes.html#deprecations\n",
      "  usecols=column_numeric,dtype=np.str)\n"
     ]
    }
   ],
   "source": [
    "header_numeric= np.genfromtxt('train.csv', delimiter=',', skip_header=False, autostrip=True, encoding='unicode_escape',\n",
    "                           usecols=column_numeric,dtype=np.str)\n"
   ]
  },
  {
   "cell_type": "code",
   "execution_count": 20,
   "id": "44b3d55d",
   "metadata": {},
   "outputs": [],
   "source": [
    "header_numeric=header_numeric[0]"
   ]
  },
  {
   "cell_type": "markdown",
   "id": "472189d5",
   "metadata": {},
   "source": [
    "# Creating the checkpoints"
   ]
  },
  {
   "cell_type": "code",
   "execution_count": 21,
   "id": "8e58b563",
   "metadata": {},
   "outputs": [],
   "source": [
    "def checkpoint(filename, checkpoint_header, chekpoint_data):\n",
    "    np.savez(filename, header=checkpoint_header, data=chekpoint_data)\n",
    "    checkpoint_variable = np.load(filename+\".npz\")\n",
    "    return checkpoint_variable"
   ]
  },
  {
   "cell_type": "code",
   "execution_count": 22,
   "id": "0f35b2cb",
   "metadata": {},
   "outputs": [],
   "source": [
    "checkpoint_string = checkpoint(\"Checkpoint-String\", header_string, data_string)"
   ]
  },
  {
   "cell_type": "code",
   "execution_count": 23,
   "id": "48b99f39",
   "metadata": {},
   "outputs": [],
   "source": [
    "checkpoint_numeric = checkpoint(\"Checkpoint-numeric\", header_numeric, data_numeric)"
   ]
  },
  {
   "cell_type": "code",
   "execution_count": 25,
   "id": "97af9d3e",
   "metadata": {},
   "outputs": [
    {
     "data": {
      "text/plain": [
       "array(['MSZoning', 'Street', 'LotShape', 'LandContour', 'Utilities', 'LotConfig', 'LandSlope',\n",
       "       'Neighborhood', 'Condition1', 'Condition2', 'BldgType', 'HouseStyle', 'RoofStyle',\n",
       "       'RoofMatl', 'Exterior1st', 'Exterior2nd', 'MasVnrType', 'ExterQual', 'ExterCond',\n",
       "       'Foundation', 'BsmtQual', 'BsmtCond', 'BsmtExposure', 'BsmtFinType1', 'BsmtFinType2',\n",
       "       'Heating', 'HeatingQC', 'CentralAir', 'Electrical', 'KitchenQual', 'Functional',\n",
       "       'FireplaceQu', 'GarageType', 'GarageFinish', 'GarageQual', 'GarageCond', 'PavedDrive',\n",
       "       'SaleType', 'SaleCondition'], dtype='<U13')"
      ]
     },
     "execution_count": 25,
     "metadata": {},
     "output_type": "execute_result"
    }
   ],
   "source": [
    "checkpoint_string[\"header\"]"
   ]
  },
  {
   "cell_type": "code",
   "execution_count": 26,
   "id": "82dd7d31",
   "metadata": {},
   "outputs": [
    {
     "data": {
      "text/plain": [
       "array([[4, 2, 4, ..., 3, 9, 5],\n",
       "       [4, 2, 4, ..., 3, 9, 5],\n",
       "       [4, 2, 1, ..., 3, 9, 5],\n",
       "       ...,\n",
       "       [4, 2, 4, ..., 3, 9, 5],\n",
       "       [4, 2, 4, ..., 3, 9, 5],\n",
       "       [4, 2, 4, ..., 3, 9, 5]])"
      ]
     },
     "execution_count": 26,
     "metadata": {},
     "output_type": "execute_result"
    }
   ],
   "source": [
    "checkpoint_string[\"data\"]"
   ]
  },
  {
   "cell_type": "code",
   "execution_count": 27,
   "id": "d0299ae5",
   "metadata": {},
   "outputs": [
    {
     "data": {
      "text/plain": [
       "array(['Id', 'MSSubClass', 'LotFrontage', 'LotArea', 'OverallQual', 'OverallCond', 'YearBuilt',\n",
       "       'YearRemodAdd', 'MasVnrArea', 'BsmtFinSF1', 'BsmtFinSF2', 'BsmtUnfSF', 'TotalBsmtSF',\n",
       "       '1stFlrSF', '2ndFlrSF', 'LowQualFinSF', 'GrLivArea', 'BsmtFullBath', 'BsmtHalfBath',\n",
       "       'FullBath', 'HalfBath', 'BedroomAbvGr', 'KitchenAbvGr', 'TotRmsAbvGrd', 'Fireplaces',\n",
       "       'GarageYrBlt', 'GarageCars', 'GarageArea', 'WoodDeckSF', 'OpenPorchSF', 'EnclosedPorch',\n",
       "       '3SsnPorch', 'ScreenPorch', 'PoolArea', 'MiscVal', 'MoSold', 'YrSold', 'SalePrice'],\n",
       "      dtype='<U13')"
      ]
     },
     "execution_count": 27,
     "metadata": {},
     "output_type": "execute_result"
    }
   ],
   "source": [
    "checkpoint_numeric[\"header\"]"
   ]
  },
  {
   "cell_type": "code",
   "execution_count": 28,
   "id": "2a97c501",
   "metadata": {},
   "outputs": [
    {
     "data": {
      "text/plain": [
       "array([[     1.,     60.,     65., ...,      2.,   2008., 208500.],\n",
       "       [     2.,     20.,     80., ...,      5.,   2007., 181500.],\n",
       "       [     3.,     60.,     68., ...,      9.,   2008., 223500.],\n",
       "       ...,\n",
       "       [  1458.,     70.,     66., ...,      5.,   2010., 266500.],\n",
       "       [  1459.,     20.,     68., ...,      4.,   2010., 142125.],\n",
       "       [  1460.,     20.,     75., ...,      6.,   2008., 147500.]])"
      ]
     },
     "execution_count": 28,
     "metadata": {},
     "output_type": "execute_result"
    }
   ],
   "source": [
    "checkpoint_numeric[\"data\"]"
   ]
  },
  {
   "cell_type": "markdown",
   "id": "e1b1bddb",
   "metadata": {},
   "source": [
    "# Loading the data from checkpoints"
   ]
  },
  {
   "cell_type": "code",
   "execution_count": 30,
   "id": "3e27b6cb",
   "metadata": {},
   "outputs": [],
   "source": [
    "checkpoint_variable = np.load(\"Checkpoint-numeric\"+\".npz\")"
   ]
  },
  {
   "cell_type": "code",
   "execution_count": 32,
   "id": "d56819ce",
   "metadata": {},
   "outputs": [
    {
     "data": {
      "text/plain": [
       "array(['Id', 'MSSubClass', 'LotFrontage', 'LotArea', 'OverallQual', 'OverallCond', 'YearBuilt',\n",
       "       'YearRemodAdd', 'MasVnrArea', 'BsmtFinSF1', 'BsmtFinSF2', 'BsmtUnfSF', 'TotalBsmtSF',\n",
       "       '1stFlrSF', '2ndFlrSF', 'LowQualFinSF', 'GrLivArea', 'BsmtFullBath', 'BsmtHalfBath',\n",
       "       'FullBath', 'HalfBath', 'BedroomAbvGr', 'KitchenAbvGr', 'TotRmsAbvGrd', 'Fireplaces',\n",
       "       'GarageYrBlt', 'GarageCars', 'GarageArea', 'WoodDeckSF', 'OpenPorchSF', 'EnclosedPorch',\n",
       "       '3SsnPorch', 'ScreenPorch', 'PoolArea', 'MiscVal', 'MoSold', 'YrSold', 'SalePrice'],\n",
       "      dtype='<U13')"
      ]
     },
     "execution_count": 32,
     "metadata": {},
     "output_type": "execute_result"
    }
   ],
   "source": [
    "checkpoint_variable[\"header\"]"
   ]
  },
  {
   "cell_type": "code",
   "execution_count": 33,
   "id": "f84f7c2f",
   "metadata": {},
   "outputs": [
    {
     "data": {
      "text/plain": [
       "array([[     1.,     60.,     65., ...,      2.,   2008., 208500.],\n",
       "       [     2.,     20.,     80., ...,      5.,   2007., 181500.],\n",
       "       [     3.,     60.,     68., ...,      9.,   2008., 223500.],\n",
       "       ...,\n",
       "       [  1458.,     70.,     66., ...,      5.,   2010., 266500.],\n",
       "       [  1459.,     20.,     68., ...,      4.,   2010., 142125.],\n",
       "       [  1460.,     20.,     75., ...,      6.,   2008., 147500.]])"
      ]
     },
     "execution_count": 33,
     "metadata": {},
     "output_type": "execute_result"
    }
   ],
   "source": [
    "checkpoint_variable[\"data\"]"
   ]
  }
 ],
 "metadata": {
  "kernelspec": {
   "display_name": "Python 3",
   "language": "python",
   "name": "python3"
  },
  "language_info": {
   "codemirror_mode": {
    "name": "ipython",
    "version": 3
   },
   "file_extension": ".py",
   "mimetype": "text/x-python",
   "name": "python",
   "nbconvert_exporter": "python",
   "pygments_lexer": "ipython3",
   "version": "3.8.10"
  }
 },
 "nbformat": 4,
 "nbformat_minor": 5
}
